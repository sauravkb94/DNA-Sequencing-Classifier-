{
  "nbformat": 4,
  "nbformat_minor": 0,
  "metadata": {
    "colab": {
      "provenance": [],
      "authorship_tag": "ABX9TyNkxNeGLZme6GxyQX646wc4",
      "include_colab_link": true
    },
    "kernelspec": {
      "name": "python3",
      "display_name": "Python 3"
    },
    "language_info": {
      "name": "python"
    },
    "accelerator": "GPU",
    "gpuClass": "standard"
  },
  "cells": [
    {
      "cell_type": "markdown",
      "metadata": {
        "id": "view-in-github",
        "colab_type": "text"
      },
      "source": [
        "<a href=\"https://colab.research.google.com/github/sauravkb94/DNA-Sequencing-Classifier-/blob/main/DNA_Sequencing_Classifier.ipynb\" target=\"_parent\"><img src=\"https://colab.research.google.com/assets/colab-badge.svg\" alt=\"Open In Colab\"/></a>"
      ]
    },
    {
      "cell_type": "code",
      "execution_count": 196,
      "metadata": {
        "id": "dtf155giksGF"
      },
      "outputs": [],
      "source": [
        "import numpy as np\n",
        "import pandas as pd\n",
        "import matplotlib.pyplot as plt\n",
        "%matplotlib inline  \n",
        "import seaborn as sns\n",
        "from sklearn.feature_extraction.text import CountVectorizer\n",
        "from sklearn.feature_extraction.text import TfidfTransformer"
      ]
    },
    {
      "cell_type": "code",
      "source": [
        "df = pd.read_table('/content/human.txt')"
      ],
      "metadata": {
        "id": "0LKcXATzpR89"
      },
      "execution_count": 197,
      "outputs": []
    },
    {
      "cell_type": "code",
      "source": [
        "df"
      ],
      "metadata": {
        "colab": {
          "base_uri": "https://localhost:8080/",
          "height": 424
        },
        "id": "Ad7RNXJauKut",
        "outputId": "821f832d-c9c9-48f5-e8c6-b475be39399a"
      },
      "execution_count": 198,
      "outputs": [
        {
          "output_type": "execute_result",
          "data": {
            "text/plain": [
              "                                               sequence  class\n",
              "0     ATGCCCCAACTAAATACTACCGTATGGCCCACCATAATTACCCCCA...      4\n",
              "1     ATGAACGAAAATCTGTTCGCTTCATTCATTGCCCCCACAATCCTAG...      4\n",
              "2     ATGTGTGGCATTTGGGCGCTGTTTGGCAGTGATGATTGCCTTTCTG...      3\n",
              "3     ATGTGTGGCATTTGGGCGCTGTTTGGCAGTGATGATTGCCTTTCTG...      3\n",
              "4     ATGCAACAGCATTTTGAATTTGAATACCAGACCAAAGTGGATGGTG...      3\n",
              "...                                                 ...    ...\n",
              "4375  ATGGAAGATTTGGAGGAAACATTATTTGAAGAATTTGAAAACTATT...      0\n",
              "4376  ATGCAGTCCTTTCGGGAGCAAAGCAGTTACCACGGAAACCAGCAAA...      6\n",
              "4377  ATGCAGTCCTTTCGGGAGCAAAGCAGTTACCACGGAAACCAGCAAA...      6\n",
              "4378  ATGGGGCACCTGGTTTGCTGTCTGTGTGGCAAGTGGGCCAGTTACC...      6\n",
              "4379  ATGCAGTCCTTTCGGGAGCAAAGCAGTTACCACGGAAACCAGCAAA...      6\n",
              "\n",
              "[4380 rows x 2 columns]"
            ],
            "text/html": [
              "\n",
              "  <div id=\"df-4d34a74c-602e-4e34-8d5a-a03298ef0817\">\n",
              "    <div class=\"colab-df-container\">\n",
              "      <div>\n",
              "<style scoped>\n",
              "    .dataframe tbody tr th:only-of-type {\n",
              "        vertical-align: middle;\n",
              "    }\n",
              "\n",
              "    .dataframe tbody tr th {\n",
              "        vertical-align: top;\n",
              "    }\n",
              "\n",
              "    .dataframe thead th {\n",
              "        text-align: right;\n",
              "    }\n",
              "</style>\n",
              "<table border=\"1\" class=\"dataframe\">\n",
              "  <thead>\n",
              "    <tr style=\"text-align: right;\">\n",
              "      <th></th>\n",
              "      <th>sequence</th>\n",
              "      <th>class</th>\n",
              "    </tr>\n",
              "  </thead>\n",
              "  <tbody>\n",
              "    <tr>\n",
              "      <th>0</th>\n",
              "      <td>ATGCCCCAACTAAATACTACCGTATGGCCCACCATAATTACCCCCA...</td>\n",
              "      <td>4</td>\n",
              "    </tr>\n",
              "    <tr>\n",
              "      <th>1</th>\n",
              "      <td>ATGAACGAAAATCTGTTCGCTTCATTCATTGCCCCCACAATCCTAG...</td>\n",
              "      <td>4</td>\n",
              "    </tr>\n",
              "    <tr>\n",
              "      <th>2</th>\n",
              "      <td>ATGTGTGGCATTTGGGCGCTGTTTGGCAGTGATGATTGCCTTTCTG...</td>\n",
              "      <td>3</td>\n",
              "    </tr>\n",
              "    <tr>\n",
              "      <th>3</th>\n",
              "      <td>ATGTGTGGCATTTGGGCGCTGTTTGGCAGTGATGATTGCCTTTCTG...</td>\n",
              "      <td>3</td>\n",
              "    </tr>\n",
              "    <tr>\n",
              "      <th>4</th>\n",
              "      <td>ATGCAACAGCATTTTGAATTTGAATACCAGACCAAAGTGGATGGTG...</td>\n",
              "      <td>3</td>\n",
              "    </tr>\n",
              "    <tr>\n",
              "      <th>...</th>\n",
              "      <td>...</td>\n",
              "      <td>...</td>\n",
              "    </tr>\n",
              "    <tr>\n",
              "      <th>4375</th>\n",
              "      <td>ATGGAAGATTTGGAGGAAACATTATTTGAAGAATTTGAAAACTATT...</td>\n",
              "      <td>0</td>\n",
              "    </tr>\n",
              "    <tr>\n",
              "      <th>4376</th>\n",
              "      <td>ATGCAGTCCTTTCGGGAGCAAAGCAGTTACCACGGAAACCAGCAAA...</td>\n",
              "      <td>6</td>\n",
              "    </tr>\n",
              "    <tr>\n",
              "      <th>4377</th>\n",
              "      <td>ATGCAGTCCTTTCGGGAGCAAAGCAGTTACCACGGAAACCAGCAAA...</td>\n",
              "      <td>6</td>\n",
              "    </tr>\n",
              "    <tr>\n",
              "      <th>4378</th>\n",
              "      <td>ATGGGGCACCTGGTTTGCTGTCTGTGTGGCAAGTGGGCCAGTTACC...</td>\n",
              "      <td>6</td>\n",
              "    </tr>\n",
              "    <tr>\n",
              "      <th>4379</th>\n",
              "      <td>ATGCAGTCCTTTCGGGAGCAAAGCAGTTACCACGGAAACCAGCAAA...</td>\n",
              "      <td>6</td>\n",
              "    </tr>\n",
              "  </tbody>\n",
              "</table>\n",
              "<p>4380 rows × 2 columns</p>\n",
              "</div>\n",
              "      <button class=\"colab-df-convert\" onclick=\"convertToInteractive('df-4d34a74c-602e-4e34-8d5a-a03298ef0817')\"\n",
              "              title=\"Convert this dataframe to an interactive table.\"\n",
              "              style=\"display:none;\">\n",
              "        \n",
              "  <svg xmlns=\"http://www.w3.org/2000/svg\" height=\"24px\"viewBox=\"0 0 24 24\"\n",
              "       width=\"24px\">\n",
              "    <path d=\"M0 0h24v24H0V0z\" fill=\"none\"/>\n",
              "    <path d=\"M18.56 5.44l.94 2.06.94-2.06 2.06-.94-2.06-.94-.94-2.06-.94 2.06-2.06.94zm-11 1L8.5 8.5l.94-2.06 2.06-.94-2.06-.94L8.5 2.5l-.94 2.06-2.06.94zm10 10l.94 2.06.94-2.06 2.06-.94-2.06-.94-.94-2.06-.94 2.06-2.06.94z\"/><path d=\"M17.41 7.96l-1.37-1.37c-.4-.4-.92-.59-1.43-.59-.52 0-1.04.2-1.43.59L10.3 9.45l-7.72 7.72c-.78.78-.78 2.05 0 2.83L4 21.41c.39.39.9.59 1.41.59.51 0 1.02-.2 1.41-.59l7.78-7.78 2.81-2.81c.8-.78.8-2.07 0-2.86zM5.41 20L4 18.59l7.72-7.72 1.47 1.35L5.41 20z\"/>\n",
              "  </svg>\n",
              "      </button>\n",
              "      \n",
              "  <style>\n",
              "    .colab-df-container {\n",
              "      display:flex;\n",
              "      flex-wrap:wrap;\n",
              "      gap: 12px;\n",
              "    }\n",
              "\n",
              "    .colab-df-convert {\n",
              "      background-color: #E8F0FE;\n",
              "      border: none;\n",
              "      border-radius: 50%;\n",
              "      cursor: pointer;\n",
              "      display: none;\n",
              "      fill: #1967D2;\n",
              "      height: 32px;\n",
              "      padding: 0 0 0 0;\n",
              "      width: 32px;\n",
              "    }\n",
              "\n",
              "    .colab-df-convert:hover {\n",
              "      background-color: #E2EBFA;\n",
              "      box-shadow: 0px 1px 2px rgba(60, 64, 67, 0.3), 0px 1px 3px 1px rgba(60, 64, 67, 0.15);\n",
              "      fill: #174EA6;\n",
              "    }\n",
              "\n",
              "    [theme=dark] .colab-df-convert {\n",
              "      background-color: #3B4455;\n",
              "      fill: #D2E3FC;\n",
              "    }\n",
              "\n",
              "    [theme=dark] .colab-df-convert:hover {\n",
              "      background-color: #434B5C;\n",
              "      box-shadow: 0px 1px 3px 1px rgba(0, 0, 0, 0.15);\n",
              "      filter: drop-shadow(0px 1px 2px rgba(0, 0, 0, 0.3));\n",
              "      fill: #FFFFFF;\n",
              "    }\n",
              "  </style>\n",
              "\n",
              "      <script>\n",
              "        const buttonEl =\n",
              "          document.querySelector('#df-4d34a74c-602e-4e34-8d5a-a03298ef0817 button.colab-df-convert');\n",
              "        buttonEl.style.display =\n",
              "          google.colab.kernel.accessAllowed ? 'block' : 'none';\n",
              "\n",
              "        async function convertToInteractive(key) {\n",
              "          const element = document.querySelector('#df-4d34a74c-602e-4e34-8d5a-a03298ef0817');\n",
              "          const dataTable =\n",
              "            await google.colab.kernel.invokeFunction('convertToInteractive',\n",
              "                                                     [key], {});\n",
              "          if (!dataTable) return;\n",
              "\n",
              "          const docLinkHtml = 'Like what you see? Visit the ' +\n",
              "            '<a target=\"_blank\" href=https://colab.research.google.com/notebooks/data_table.ipynb>data table notebook</a>'\n",
              "            + ' to learn more about interactive tables.';\n",
              "          element.innerHTML = '';\n",
              "          dataTable['output_type'] = 'display_data';\n",
              "          await google.colab.output.renderOutput(dataTable, element);\n",
              "          const docLink = document.createElement('div');\n",
              "          docLink.innerHTML = docLinkHtml;\n",
              "          element.appendChild(docLink);\n",
              "        }\n",
              "      </script>\n",
              "    </div>\n",
              "  </div>\n",
              "  "
            ]
          },
          "metadata": {},
          "execution_count": 198
        }
      ]
    },
    {
      "cell_type": "code",
      "source": [
        "count = df['class'].value_counts()\n",
        "plt.figure(figsize= (8,4))\n",
        "sns.barplot(count.index, count.values)\n",
        "plt.xlabel('No of Occurances')\n",
        "plt.ylabel('Category');"
      ],
      "metadata": {
        "colab": {
          "base_uri": "https://localhost:8080/",
          "height": 337
        },
        "id": "molLew2mu-57",
        "outputId": "d4399eee-73d4-41fc-b5f6-bc9e026a9d4c"
      },
      "execution_count": 199,
      "outputs": [
        {
          "output_type": "stream",
          "name": "stderr",
          "text": [
            "/usr/local/lib/python3.8/dist-packages/seaborn/_decorators.py:36: FutureWarning: Pass the following variables as keyword args: x, y. From version 0.12, the only valid positional argument will be `data`, and passing other arguments without an explicit keyword will result in an error or misinterpretation.\n",
            "  warnings.warn(\n"
          ]
        },
        {
          "output_type": "display_data",
          "data": {
            "text/plain": [
              "<Figure size 576x288 with 1 Axes>"
            ],
            "image/png": "[encoded data removed]"
          },
          "metadata": {
            "needs_background": "light"
          }
        }
      ]
    },
    {
      "cell_type": "code",
      "source": [
        "df['length'] = df['sequence'].apply(len)"
      ],
      "metadata": {
        "id": "KhRvebGjxGbQ"
      },
      "execution_count": 200,
      "outputs": []
    },
    {
      "cell_type": "code",
      "source": [
        "df.hist(column= 'length', by = 'class', bins = 20, figsize=(12,12) );"
      ],
      "metadata": {
        "colab": {
          "base_uri": "https://localhost:8080/",
          "height": 727
        },
        "id": "hwmTOdA3x0qH",
        "outputId": "2a21b996-6873-411d-8b27-31a3b9661de8"
      },
      "execution_count": 201,
      "outputs": [
        {
          "output_type": "display_data",
          "data": {
            "text/plain": [
              "<Figure size 864x864 with 9 Axes>"
            ],
            "image/png": "[encoded data removed]"
          },
          "metadata": {
            "needs_background": "light"
          }
        }
      ]
    },
    {
      "cell_type": "markdown",
      "source": [
        "**Let's define a function to collect all possible overlapping n-grams of a specified length from any sequence string. We will basically apply the n-grams to the complete sequences.**"
      ],
      "metadata": {
        "id": "dQxkse4HqKpw"
      }
    },
    {
      "cell_type": "code",
      "source": [
        "# function to convert sequence strings into n-grams words, default size = 6 (hexamer words)\n",
        "def create_ngrams(sequence, size=6):\n",
        "    return [sequence[x:x+size].lower() for x in range(len(sequence) - size + 1)]"
      ],
      "metadata": {
        "id": "-tu_qsuApx6d"
      },
      "execution_count": 202,
      "outputs": []
    },
    {
      "cell_type": "code",
      "source": [
        "df['n-grams'] = df['sequence'].apply(create_ngrams)"
      ],
      "metadata": {
        "id": "gnh_an9h2Lxx"
      },
      "execution_count": 203,
      "outputs": []
    },
    {
      "cell_type": "code",
      "source": [
        "df.head(10)"
      ],
      "metadata": {
        "colab": {
          "base_uri": "https://localhost:8080/",
          "height": 363
        },
        "id": "qbUW6t-B2hKY",
        "outputId": "10852658-10f0-462f-9d51-ca446ef331e0"
      },
      "execution_count": 204,
      "outputs": [
        {
          "output_type": "execute_result",
          "data": {
            "text/plain": [
              "                                            sequence  class  length  \\\n",
              "0  ATGCCCCAACTAAATACTACCGTATGGCCCACCATAATTACCCCCA...      4     207   \n",
              "1  ATGAACGAAAATCTGTTCGCTTCATTCATTGCCCCCACAATCCTAG...      4     681   \n",
              "2  ATGTGTGGCATTTGGGCGCTGTTTGGCAGTGATGATTGCCTTTCTG...      3    1686   \n",
              "3  ATGTGTGGCATTTGGGCGCTGTTTGGCAGTGATGATTGCCTTTCTG...      3    1206   \n",
              "4  ATGCAACAGCATTTTGAATTTGAATACCAGACCAAAGTGGATGGTG...      3    1437   \n",
              "5  ATGTGTGGCATTTGGGCGCTGTTTGGCAGTGATGATTGCCTTTCTG...      3    1686   \n",
              "6  ATGAAGATTGCACACAGAGGTCCAGATGCATTCCGTTTTGAGAATG...      3    1623   \n",
              "7  ATGCAACAGCATTTTGAATTTGAATACCAGACCAAAGTGGATGGTG...      3    1437   \n",
              "8  ATGAAGATTGCACACAGAGGTCCAGATGCATTCCGTTTTGAGAATG...      3    1623   \n",
              "9  ATGTGTGGCATTTGGGCGCTGTTTGGCAGTGATGATTGCCTTTCTG...      3     644   \n",
              "\n",
              "                                             n-grams  \n",
              "0  [atgccc, tgcccc, gcccca, ccccaa, cccaac, ccaac...  \n",
              "1  [atgaac, tgaacg, gaacga, aacgaa, acgaaa, cgaaa...  \n",
              "2  [atgtgt, tgtgtg, gtgtgg, tgtggc, gtggca, tggca...  \n",
              "3  [atgtgt, tgtgtg, gtgtgg, tgtggc, gtggca, tggca...  \n",
              "4  [atgcaa, tgcaac, gcaaca, caacag, aacagc, acagc...  \n",
              "5  [atgtgt, tgtgtg, gtgtgg, tgtggc, gtggca, tggca...  \n",
              "6  [atgaag, tgaaga, gaagat, aagatt, agattg, gattg...  \n",
              "7  [atgcaa, tgcaac, gcaaca, caacag, aacagc, acagc...  \n",
              "8  [atgaag, tgaaga, gaagat, aagatt, agattg, gattg...  \n",
              "9  [atgtgt, tgtgtg, gtgtgg, tgtggc, gtggca, tggca...  "
            ],
            "text/html": [
              "\n",
              "  <div id=\"df-cdc1dc90-8a81-4440-b733-ebba4163a6c0\">\n",
              "    <div class=\"colab-df-container\">\n",
              "      <div>\n",
              "<style scoped>\n",
              "    .dataframe tbody tr th:only-of-type {\n",
              "        vertical-align: middle;\n",
              "    }\n",
              "\n",
              "    .dataframe tbody tr th {\n",
              "        vertical-align: top;\n",
              "    }\n",
              "\n",
              "    .dataframe thead th {\n",
              "        text-align: right;\n",
              "    }\n",
              "</style>\n",
              "<table border=\"1\" class=\"dataframe\">\n",
              "  <thead>\n",
              "    <tr style=\"text-align: right;\">\n",
              "      <th></th>\n",
              "      <th>sequence</th>\n",
              "      <th>class</th>\n",
              "      <th>length</th>\n",
              "      <th>n-grams</th>\n",
              "    </tr>\n",
              "  </thead>\n",
              "  <tbody>\n",
              "    <tr>\n",
              "      <th>0</th>\n",
              "      <td>ATGCCCCAACTAAATACTACCGTATGGCCCACCATAATTACCCCCA...</td>\n",
              "      <td>4</td>\n",
              "      <td>207</td>\n",
              "      <td>[atgccc, tgcccc, gcccca, ccccaa, cccaac, ccaac...</td>\n",
              "    </tr>\n",
              "    <tr>\n",
              "      <th>1</th>\n",
              "      <td>ATGAACGAAAATCTGTTCGCTTCATTCATTGCCCCCACAATCCTAG...</td>\n",
              "      <td>4</td>\n",
              "      <td>681</td>\n",
              "      <td>[atgaac, tgaacg, gaacga, aacgaa, acgaaa, cgaaa...</td>\n",
              "    </tr>\n",
              "    <tr>\n",
              "      <th>2</th>\n",
              "      <td>ATGTGTGGCATTTGGGCGCTGTTTGGCAGTGATGATTGCCTTTCTG...</td>\n",
              "      <td>3</td>\n",
              "      <td>1686</td>\n",
              "      <td>[atgtgt, tgtgtg, gtgtgg, tgtggc, gtggca, tggca...</td>\n",
              "    </tr>\n",
              "    <tr>\n",
              "      <th>3</th>\n",
              "      <td>ATGTGTGGCATTTGGGCGCTGTTTGGCAGTGATGATTGCCTTTCTG...</td>\n",
              "      <td>3</td>\n",
              "      <td>1206</td>\n",
              "      <td>[atgtgt, tgtgtg, gtgtgg, tgtggc, gtggca, tggca...</td>\n",
              "    </tr>\n",
              "    <tr>\n",
              "      <th>4</th>\n",
              "      <td>ATGCAACAGCATTTTGAATTTGAATACCAGACCAAAGTGGATGGTG...</td>\n",
              "      <td>3</td>\n",
              "      <td>1437</td>\n",
              "      <td>[atgcaa, tgcaac, gcaaca, caacag, aacagc, acagc...</td>\n",
              "    </tr>\n",
              "    <tr>\n",
              "      <th>5</th>\n",
              "      <td>ATGTGTGGCATTTGGGCGCTGTTTGGCAGTGATGATTGCCTTTCTG...</td>\n",
              "      <td>3</td>\n",
              "      <td>1686</td>\n",
              "      <td>[atgtgt, tgtgtg, gtgtgg, tgtggc, gtggca, tggca...</td>\n",
              "    </tr>\n",
              "    <tr>\n",
              "      <th>6</th>\n",
              "      <td>ATGAAGATTGCACACAGAGGTCCAGATGCATTCCGTTTTGAGAATG...</td>\n",
              "      <td>3</td>\n",
              "      <td>1623</td>\n",
              "      <td>[atgaag, tgaaga, gaagat, aagatt, agattg, gattg...</td>\n",
              "    </tr>\n",
              "    <tr>\n",
              "      <th>7</th>\n",
              "      <td>ATGCAACAGCATTTTGAATTTGAATACCAGACCAAAGTGGATGGTG...</td>\n",
              "      <td>3</td>\n",
              "      <td>1437</td>\n",
              "      <td>[atgcaa, tgcaac, gcaaca, caacag, aacagc, acagc...</td>\n",
              "    </tr>\n",
              "    <tr>\n",
              "      <th>8</th>\n",
              "      <td>ATGAAGATTGCACACAGAGGTCCAGATGCATTCCGTTTTGAGAATG...</td>\n",
              "      <td>3</td>\n",
              "      <td>1623</td>\n",
              "      <td>[atgaag, tgaaga, gaagat, aagatt, agattg, gattg...</td>\n",
              "    </tr>\n",
              "    <tr>\n",
              "      <th>9</th>\n",
              "      <td>ATGTGTGGCATTTGGGCGCTGTTTGGCAGTGATGATTGCCTTTCTG...</td>\n",
              "      <td>3</td>\n",
              "      <td>644</td>\n",
              "      <td>[atgtgt, tgtgtg, gtgtgg, tgtggc, gtggca, tggca...</td>\n",
              "    </tr>\n",
              "  </tbody>\n",
              "</table>\n",
              "</div>\n",
              "      <button class=\"colab-df-convert\" onclick=\"convertToInteractive('df-cdc1dc90-8a81-4440-b733-ebba4163a6c0')\"\n",
              "              title=\"Convert this dataframe to an interactive table.\"\n",
              "              style=\"display:none;\">\n",
              "        \n",
              "  <svg xmlns=\"http://www.w3.org/2000/svg\" height=\"24px\"viewBox=\"0 0 24 24\"\n",
              "       width=\"24px\">\n",
              "    <path d=\"M0 0h24v24H0V0z\" fill=\"none\"/>\n",
              "    <path d=\"M18.56 5.44l.94 2.06.94-2.06 2.06-.94-2.06-.94-.94-2.06-.94 2.06-2.06.94zm-11 1L8.5 8.5l.94-2.06 2.06-.94-2.06-.94L8.5 2.5l-.94 2.06-2.06.94zm10 10l.94 2.06.94-2.06 2.06-.94-2.06-.94-.94-2.06-.94 2.06-2.06.94z\"/><path d=\"M17.41 7.96l-1.37-1.37c-.4-.4-.92-.59-1.43-.59-.52 0-1.04.2-1.43.59L10.3 9.45l-7.72 7.72c-.78.78-.78 2.05 0 2.83L4 21.41c.39.39.9.59 1.41.59.51 0 1.02-.2 1.41-.59l7.78-7.78 2.81-2.81c.8-.78.8-2.07 0-2.86zM5.41 20L4 18.59l7.72-7.72 1.47 1.35L5.41 20z\"/>\n",
              "  </svg>\n",
              "      </button>\n",
              "      \n",
              "  <style>\n",
              "    .colab-df-container {\n",
              "      display:flex;\n",
              "      flex-wrap:wrap;\n",
              "      gap: 12px;\n",
              "    }\n",
              "\n",
              "    .colab-df-convert {\n",
              "      background-color: #E8F0FE;\n",
              "      border: none;\n",
              "      border-radius: 50%;\n",
              "      cursor: pointer;\n",
              "      display: none;\n",
              "      fill: #1967D2;\n",
              "      height: 32px;\n",
              "      padding: 0 0 0 0;\n",
              "      width: 32px;\n",
              "    }\n",
              "\n",
              "    .colab-df-convert:hover {\n",
              "      background-color: #E2EBFA;\n",
              "      box-shadow: 0px 1px 2px rgba(60, 64, 67, 0.3), 0px 1px 3px 1px rgba(60, 64, 67, 0.15);\n",
              "      fill: #174EA6;\n",
              "    }\n",
              "\n",
              "    [theme=dark] .colab-df-convert {\n",
              "      background-color: #3B4455;\n",
              "      fill: #D2E3FC;\n",
              "    }\n",
              "\n",
              "    [theme=dark] .colab-df-convert:hover {\n",
              "      background-color: #434B5C;\n",
              "      box-shadow: 0px 1px 3px 1px rgba(0, 0, 0, 0.15);\n",
              "      filter: drop-shadow(0px 1px 2px rgba(0, 0, 0, 0.3));\n",
              "      fill: #FFFFFF;\n",
              "    }\n",
              "  </style>\n",
              "\n",
              "      <script>\n",
              "        const buttonEl =\n",
              "          document.querySelector('#df-cdc1dc90-8a81-4440-b733-ebba4163a6c0 button.colab-df-convert');\n",
              "        buttonEl.style.display =\n",
              "          google.colab.kernel.accessAllowed ? 'block' : 'none';\n",
              "\n",
              "        async function convertToInteractive(key) {\n",
              "          const element = document.querySelector('#df-cdc1dc90-8a81-4440-b733-ebba4163a6c0');\n",
              "          const dataTable =\n",
              "            await google.colab.kernel.invokeFunction('convertToInteractive',\n",
              "                                                     [key], {});\n",
              "          if (!dataTable) return;\n",
              "\n",
              "          const docLinkHtml = 'Like what you see? Visit the ' +\n",
              "            '<a target=\"_blank\" href=https://colab.research.google.com/notebooks/data_table.ipynb>data table notebook</a>'\n",
              "            + ' to learn more about interactive tables.';\n",
              "          element.innerHTML = '';\n",
              "          dataTable['output_type'] = 'display_data';\n",
              "          await google.colab.output.renderOutput(dataTable, element);\n",
              "          const docLink = document.createElement('div');\n",
              "          docLink.innerHTML = docLinkHtml;\n",
              "          element.appendChild(docLink);\n",
              "        }\n",
              "      </script>\n",
              "    </div>\n",
              "  </div>\n",
              "  "
            ]
          },
          "metadata": {},
          "execution_count": 204
        }
      ]
    },
    {
      "cell_type": "markdown",
      "source": [
        "**Since we are going to use scikit-learn natural language processing tools to do the k-mer counting, we need to now convert the lists of k-mers for each gene into string sentences of words that the count vectorizer can use. We can also make a y variable to hold the class labels. Let's do that now.**"
      ],
      "metadata": {
        "id": "whKYOCAPqo5p"
      }
    },
    {
      "cell_type": "code",
      "source": [
        "human_text = list(df['n-grams'])"
      ],
      "metadata": {
        "id": "dXa_SX9BqrZb"
      },
      "execution_count": 205,
      "outputs": []
    },
    {
      "cell_type": "code",
      "source": [
        "for item in range(len(human_text)):\n",
        "   human_text[item] = ' '.join(human_text[item])"
      ],
      "metadata": {
        "id": "lmAWItB_3qTP"
      },
      "execution_count": 206,
      "outputs": []
    },
    {
      "cell_type": "code",
      "source": [
        "human_text[1]"
      ],
      "metadata": {
        "colab": {
          "base_uri": "https://localhost:8080/",
          "height": 139
        },
        "id": "RFYCbgYW4rsl",
        "outputId": "c2916d34-d09a-4d97-8d54-0d4f81a11269"
      },
      "execution_count": 207,
      "outputs": [
        {
          "output_type": "execute_result",
          "data": {
            "text/plain": [
              "'atgaac tgaacg gaacga aacgaa acgaaa cgaaaa gaaaat aaaatc aaatct aatctg atctgt tctgtt ctgttc tgttcg gttcgc ttcgct tcgctt cgcttc gcttca cttcat ttcatt tcattc cattca attcat ttcatt tcattg cattgc attgcc ttgccc tgcccc gccccc ccccca ccccac cccaca ccacaa cacaat acaatc caatcc aatcct atccta tcctag cctagg ctaggc taggcc aggcct ggccta gcctac cctacc ctaccc tacccg acccgc cccgcc ccgccg cgccgc gccgca ccgcag cgcagt gcagta cagtac agtact gtactg tactga actgat ctgatc tgatca gatcat atcatt tcattc cattct attcta ttctat tctatt ctattt tatttc atttcc tttccc ttcccc tccccc ccccct cccctc ccctct cctcta ctctat tctatt ctattg tattga attgat ttgatc tgatcc gatccc atcccc tcccca ccccac cccacc ccacct cacctc acctcc cctcca ctccaa tccaaa ccaaat caaata aaatat aatatc atatct tatctc atctca tctcat ctcatc tcatca catcaa atcaac tcaaca caacaa aacaac acaacc caaccg aaccga accgac ccgact cgacta gactaa actaat ctaatc taatca aatcac atcacc tcacca caccac accacc ccaccc caccca acccaa cccaac ccaaca caacaa aacaat acaatg caatga aatgac atgact tgacta gactaa actaat ctaatc taatca aatcaa atcaaa tcaaac caaact aaacta aactaa actaac ctaacc taacct aacctc acctca cctcaa ctcaaa tcaaaa caaaac aaaaca aaacaa aacaaa acaaat caaatg aaatga aatgat atgata tgataa gataac ataacc taacca aaccat accata ccatac cataca atacac tacaca acacaa cacaac acaaca caacac aacact acacta cactaa actaaa ctaaag taaagg aaagga aaggac aggacg ggacga gacgaa acgaac cgaacc gaacct aacctg acctga cctgat ctgatc tgatct gatctc atctct tctctt ctctta tcttat cttata ttatac tatact atacta tactag actagt ctagta tagtat agtatc gtatcc tatcct atcctt tcctta ccttaa cttaat ttaatc taatca aatcat atcatt tcattt catttt attttt ttttta ttttat tttatt ttattg tattgc attgcc ttgcca tgccac gccaca ccacaa cacaac acaact caacta aactaa actaac ctaacc taacct aacctc acctcc cctcct ctcctc tcctcg cctcgg ctcgga tcggac cggact ggactc gactcc actcct ctcctg tcctgc cctgcc ctgcct tgcctc gcctca cctcac ctcact tcactc cactca actcat ctcatt tcattt cattta atttac tttaca ttacac tacacc acacca caccaa accaac ccaacc caacca aaccac accacc ccaccc caccca acccaa cccaac ccaact caacta aactat actatc ctatct tatcta atctat tctata ctataa tataaa ataaac taaacc aaacct aaccta acctag cctagc ctagcc tagcca agccat gccatg ccatgg catggc atggcc tggcca ggccat gccatc ccatcc catccc atcccc tcccct cccctt ccctta ccttat cttatg ttatga tatgag atgagc tgagcg gagcgg agcggg gcgggc cgggca gggcac ggcaca gcacag cacagt acagtg cagtga agtgat gtgatt tgatta gattat attata ttatag tatagg ataggc taggct aggctt ggcttt gctttc ctttcg tttcgc ttcgct tcgctc cgctct gctcta ctctaa tctaag ctaaga taagat aagatt agatta gattaa attaaa ttaaaa taaaaa aaaaat aaaatg aaatgc aatgcc atgccc tgccct gcccta ccctag cctagc ctagcc tagccc agccca gcccac cccact ccactt cacttc acttct cttctt ttctta tcttac cttacc ttacca taccac accaca ccacaa cacaag acaagg caaggc aaggca aggcac ggcaca gcacac cacacc acacct caccta acctac cctaca ctacac tacacc acaccc cacccc acccct cccctt ccctta ccttat cttatc ttatcc tatccc atcccc tcccca ccccat cccata ccatac catact atacta tactag actagt ctagtt tagtta agttat gttatt ttatta tattat attatc ttatcg tatcga atcgaa tcgaaa cgaaac gaaacc aaacca aaccat accatc ccatca catcag atcagc tcagcc cagcct agccta gcctac cctact ctactc tactca actcat ctcatt tcattc cattca attcaa ttcaac tcaacc caacca aaccaa accaat ccaata caatag aatagc atagcc tagccc agccct gccctg ccctgg cctggc ctggcc tggccg ggccgt gccgta ccgtac cgtacg gtacgc tacgcc acgcct cgccta gcctaa cctaac ctaacc taaccg aaccgc accgct ccgcta cgctaa gctaac ctaaca taacat aacatt acatta cattac attact ttactg tactgc actgca ctgcag tgcagg gcaggc caggcc aggcca ggccac gccacc ccacct caccta acctac cctact ctactc tactca actcat ctcatg tcatgc catgca atgcac tgcacc gcacct caccta acctaa cctaat ctaatt taattg aattgg attgga ttggaa tggaag ggaagc gaagcg aagcgc agcgcc gcgcca cgccac gccacc ccaccc caccct acccta ccctag cctagc ctagca tagcaa agcaat gcaata caatat aatatc atatca tatcaa atcaac tcaacc caacca aaccat accatt ccatta cattaa attaac ttaacc taacct aacctt accttc ccttcc cttccc ttccct tccctc ccctct cctcta ctctac tctaca ctacac tacact acactt cactta acttat cttatc ttatca tatcat atcatc tcatct catctt atcttc tcttca cttcac ttcaca tcacaa cacaat acaatt caattc aattct attcta ttctaa tctaat ctaatt taattc aattct attcta ttctac tctact ctactg tactga actgac ctgact tgacta gactat actatc ctatcc tatcct atccta tcctag cctaga ctagaa tagaaa agaaat gaaatc aaatcg aatcgc atcgct tcgctg cgctgt gctgtc ctgtcg tgtcgc gtcgcc tcgcct cgcctt gcctta ccttaa cttaat ttaatc taatcc aatcca atccaa tccaag ccaagc caagcc aagcct agccta gcctac cctacg ctacgt tacgtt acgttt cgtttt gttttc ttttca tttcac ttcaca tcacac cacact acactt cacttc acttct cttcta ttctag tctagt ctagta tagtaa agtaag gtaagc taagcc aagcct agcctc gcctct cctcta ctctac tctacc ctacct tacctg acctgc cctgca ctgcac tgcacg gcacga cacgac acgaca cgacaa gacaac acaaca caacac aacaca acacat cacata acataa'"
            ],
            "application/vnd.google.colaboratory.intrinsic+json": {
              "type": "string"
            }
          },
          "metadata": {},
          "execution_count": 207
        }
      ]
    },
    {
      "cell_type": "code",
      "source": [
        "df['human_text'] = human_text"
      ],
      "metadata": {
        "id": "gIi1uQWH5GQ1"
      },
      "execution_count": 208,
      "outputs": []
    },
    {
      "cell_type": "code",
      "source": [
        "df.head(5)"
      ],
      "metadata": {
        "colab": {
          "base_uri": "https://localhost:8080/",
          "height": 250
        },
        "id": "Hefn94eP5Slz",
        "outputId": "dcee0ce0-2154-48fb-d92c-057f5a9181b7"
      },
      "execution_count": 209,
      "outputs": [
        {
          "output_type": "execute_result",
          "data": {
            "text/plain": [
              "                                            sequence  class  length  \\\n",
              "0  ATGCCCCAACTAAATACTACCGTATGGCCCACCATAATTACCCCCA...      4     207   \n",
              "1  ATGAACGAAAATCTGTTCGCTTCATTCATTGCCCCCACAATCCTAG...      4     681   \n",
              "2  ATGTGTGGCATTTGGGCGCTGTTTGGCAGTGATGATTGCCTTTCTG...      3    1686   \n",
              "3  ATGTGTGGCATTTGGGCGCTGTTTGGCAGTGATGATTGCCTTTCTG...      3    1206   \n",
              "4  ATGCAACAGCATTTTGAATTTGAATACCAGACCAAAGTGGATGGTG...      3    1437   \n",
              "\n",
              "                                             n-grams  \\\n",
              "0  [atgccc, tgcccc, gcccca, ccccaa, cccaac, ccaac...   \n",
              "1  [atgaac, tgaacg, gaacga, aacgaa, acgaaa, cgaaa...   \n",
              "2  [atgtgt, tgtgtg, gtgtgg, tgtggc, gtggca, tggca...   \n",
              "3  [atgtgt, tgtgtg, gtgtgg, tgtggc, gtggca, tggca...   \n",
              "4  [atgcaa, tgcaac, gcaaca, caacag, aacagc, acagc...   \n",
              "\n",
              "                                          human_text  \n",
              "0  atgccc tgcccc gcccca ccccaa cccaac ccaact caac...  \n",
              "1  atgaac tgaacg gaacga aacgaa acgaaa cgaaaa gaaa...  \n",
              "2  atgtgt tgtgtg gtgtgg tgtggc gtggca tggcat ggca...  \n",
              "3  atgtgt tgtgtg gtgtgg tgtggc gtggca tggcat ggca...  \n",
              "4  atgcaa tgcaac gcaaca caacag aacagc acagca cagc...  "
            ],
            "text/html": [
              "\n",
              "  <div id=\"df-62b83df2-b748-4836-b183-4911d1c6de65\">\n",
              "    <div class=\"colab-df-container\">\n",
              "      <div>\n",
              "<style scoped>\n",
              "    .dataframe tbody tr th:only-of-type {\n",
              "        vertical-align: middle;\n",
              "    }\n",
              "\n",
              "    .dataframe tbody tr th {\n",
              "        vertical-align: top;\n",
              "    }\n",
              "\n",
              "    .dataframe thead th {\n",
              "        text-align: right;\n",
              "    }\n",
              "</style>\n",
              "<table border=\"1\" class=\"dataframe\">\n",
              "  <thead>\n",
              "    <tr style=\"text-align: right;\">\n",
              "      <th></th>\n",
              "      <th>sequence</th>\n",
              "      <th>class</th>\n",
              "      <th>length</th>\n",
              "      <th>n-grams</th>\n",
              "      <th>human_text</th>\n",
              "    </tr>\n",
              "  </thead>\n",
              "  <tbody>\n",
              "    <tr>\n",
              "      <th>0</th>\n",
              "      <td>ATGCCCCAACTAAATACTACCGTATGGCCCACCATAATTACCCCCA...</td>\n",
              "      <td>4</td>\n",
              "      <td>207</td>\n",
              "      <td>[atgccc, tgcccc, gcccca, ccccaa, cccaac, ccaac...</td>\n",
              "      <td>atgccc tgcccc gcccca ccccaa cccaac ccaact caac...</td>\n",
              "    </tr>\n",
              "    <tr>\n",
              "      <th>1</th>\n",
              "      <td>ATGAACGAAAATCTGTTCGCTTCATTCATTGCCCCCACAATCCTAG...</td>\n",
              "      <td>4</td>\n",
              "      <td>681</td>\n",
              "      <td>[atgaac, tgaacg, gaacga, aacgaa, acgaaa, cgaaa...</td>\n",
              "      <td>atgaac tgaacg gaacga aacgaa acgaaa cgaaaa gaaa...</td>\n",
              "    </tr>\n",
              "    <tr>\n",
              "      <th>2</th>\n",
              "      <td>ATGTGTGGCATTTGGGCGCTGTTTGGCAGTGATGATTGCCTTTCTG...</td>\n",
              "      <td>3</td>\n",
              "      <td>1686</td>\n",
              "      <td>[atgtgt, tgtgtg, gtgtgg, tgtggc, gtggca, tggca...</td>\n",
              "      <td>atgtgt tgtgtg gtgtgg tgtggc gtggca tggcat ggca...</td>\n",
              "    </tr>\n",
              "    <tr>\n",
              "      <th>3</th>\n",
              "      <td>ATGTGTGGCATTTGGGCGCTGTTTGGCAGTGATGATTGCCTTTCTG...</td>\n",
              "      <td>3</td>\n",
              "      <td>1206</td>\n",
              "      <td>[atgtgt, tgtgtg, gtgtgg, tgtggc, gtggca, tggca...</td>\n",
              "      <td>atgtgt tgtgtg gtgtgg tgtggc gtggca tggcat ggca...</td>\n",
              "    </tr>\n",
              "    <tr>\n",
              "      <th>4</th>\n",
              "      <td>ATGCAACAGCATTTTGAATTTGAATACCAGACCAAAGTGGATGGTG...</td>\n",
              "      <td>3</td>\n",
              "      <td>1437</td>\n",
              "      <td>[atgcaa, tgcaac, gcaaca, caacag, aacagc, acagc...</td>\n",
              "      <td>atgcaa tgcaac gcaaca caacag aacagc acagca cagc...</td>\n",
              "    </tr>\n",
              "  </tbody>\n",
              "</table>\n",
              "</div>\n",
              "      <button class=\"colab-df-convert\" onclick=\"convertToInteractive('df-62b83df2-b748-4836-b183-4911d1c6de65')\"\n",
              "              title=\"Convert this dataframe to an interactive table.\"\n",
              "              style=\"display:none;\">\n",
              "        \n",
              "  <svg xmlns=\"http://www.w3.org/2000/svg\" height=\"24px\"viewBox=\"0 0 24 24\"\n",
              "       width=\"24px\">\n",
              "    <path d=\"M0 0h24v24H0V0z\" fill=\"none\"/>\n",
              "    <path d=\"M18.56 5.44l.94 2.06.94-2.06 2.06-.94-2.06-.94-.94-2.06-.94 2.06-2.06.94zm-11 1L8.5 8.5l.94-2.06 2.06-.94-2.06-.94L8.5 2.5l-.94 2.06-2.06.94zm10 10l.94 2.06.94-2.06 2.06-.94-2.06-.94-.94-2.06-.94 2.06-2.06.94z\"/><path d=\"M17.41 7.96l-1.37-1.37c-.4-.4-.92-.59-1.43-.59-.52 0-1.04.2-1.43.59L10.3 9.45l-7.72 7.72c-.78.78-.78 2.05 0 2.83L4 21.41c.39.39.9.59 1.41.59.51 0 1.02-.2 1.41-.59l7.78-7.78 2.81-2.81c.8-.78.8-2.07 0-2.86zM5.41 20L4 18.59l7.72-7.72 1.47 1.35L5.41 20z\"/>\n",
              "  </svg>\n",
              "      </button>\n",
              "      \n",
              "  <style>\n",
              "    .colab-df-container {\n",
              "      display:flex;\n",
              "      flex-wrap:wrap;\n",
              "      gap: 12px;\n",
              "    }\n",
              "\n",
              "    .colab-df-convert {\n",
              "      background-color: #E8F0FE;\n",
              "      border: none;\n",
              "      border-radius: 50%;\n",
              "      cursor: pointer;\n",
              "      display: none;\n",
              "      fill: #1967D2;\n",
              "      height: 32px;\n",
              "      padding: 0 0 0 0;\n",
              "      width: 32px;\n",
              "    }\n",
              "\n",
              "    .colab-df-convert:hover {\n",
              "      background-color: #E2EBFA;\n",
              "      box-shadow: 0px 1px 2px rgba(60, 64, 67, 0.3), 0px 1px 3px 1px rgba(60, 64, 67, 0.15);\n",
              "      fill: #174EA6;\n",
              "    }\n",
              "\n",
              "    [theme=dark] .colab-df-convert {\n",
              "      background-color: #3B4455;\n",
              "      fill: #D2E3FC;\n",
              "    }\n",
              "\n",
              "    [theme=dark] .colab-df-convert:hover {\n",
              "      background-color: #434B5C;\n",
              "      box-shadow: 0px 1px 3px 1px rgba(0, 0, 0, 0.15);\n",
              "      filter: drop-shadow(0px 1px 2px rgba(0, 0, 0, 0.3));\n",
              "      fill: #FFFFFF;\n",
              "    }\n",
              "  </style>\n",
              "\n",
              "      <script>\n",
              "        const buttonEl =\n",
              "          document.querySelector('#df-62b83df2-b748-4836-b183-4911d1c6de65 button.colab-df-convert');\n",
              "        buttonEl.style.display =\n",
              "          google.colab.kernel.accessAllowed ? 'block' : 'none';\n",
              "\n",
              "        async function convertToInteractive(key) {\n",
              "          const element = document.querySelector('#df-62b83df2-b748-4836-b183-4911d1c6de65');\n",
              "          const dataTable =\n",
              "            await google.colab.kernel.invokeFunction('convertToInteractive',\n",
              "                                                     [key], {});\n",
              "          if (!dataTable) return;\n",
              "\n",
              "          const docLinkHtml = 'Like what you see? Visit the ' +\n",
              "            '<a target=\"_blank\" href=https://colab.research.google.com/notebooks/data_table.ipynb>data table notebook</a>'\n",
              "            + ' to learn more about interactive tables.';\n",
              "          element.innerHTML = '';\n",
              "          dataTable['output_type'] = 'display_data';\n",
              "          await google.colab.output.renderOutput(dataTable, element);\n",
              "          const docLink = document.createElement('div');\n",
              "          docLink.innerHTML = docLinkHtml;\n",
              "          element.appendChild(docLink);\n",
              "        }\n",
              "      </script>\n",
              "    </div>\n",
              "  </div>\n",
              "  "
            ]
          },
          "metadata": {},
          "execution_count": 209
        }
      ]
    },
    {
      "cell_type": "markdown",
      "source": [
        "**Now we will apply the BAG of WORDS using CountVectorizer using NLP**"
      ],
      "metadata": {
        "id": "HY4fe5gArWef"
      }
    },
    {
      "cell_type": "code",
      "source": [
        "# Creating the Bag of Words model using CountVectorizer()\n",
        "from sklearn.feature_extraction.text import CountVectorizer\n",
        "vectorizer = CountVectorizer(ngram_range=(4,4))\n",
        "X = vectorizer.fit_transform(df['human_text'])"
      ],
      "metadata": {
        "id": "2kXyoYP9rY0Q"
      },
      "execution_count": 210,
      "outputs": []
    },
    {
      "cell_type": "code",
      "source": [
        "df.shape"
      ],
      "metadata": {
        "colab": {
          "base_uri": "https://localhost:8080/"
        },
        "id": "ZFiVHTSuriEg",
        "outputId": "92cd9f9c-e999-41fd-da38-dac822ecb4fd"
      },
      "execution_count": 211,
      "outputs": [
        {
          "output_type": "execute_result",
          "data": {
            "text/plain": [
              "(4380, 5)"
            ]
          },
          "metadata": {},
          "execution_count": 211
        }
      ]
    },
    {
      "cell_type": "code",
      "source": [
        "X.shape"
      ],
      "metadata": {
        "colab": {
          "base_uri": "https://localhost:8080/"
        },
        "id": "9OPiN-D3-6js",
        "outputId": "7f6581ee-b543-4d75-9f4c-0c119092058e"
      },
      "execution_count": 212,
      "outputs": [
        {
          "output_type": "execute_result",
          "data": {
            "text/plain": [
              "(4380, 232414)"
            ]
          },
          "metadata": {},
          "execution_count": 212
        }
      ]
    },
    {
      "cell_type": "code",
      "source": [
        "# Creating the weight of Words model using TfidfTransformer()\n",
        "from sklearn.feature_extraction.text import TfidfTransformer\n",
        "tfidf_data = TfidfTransformer().fit_transform(X)"
      ],
      "metadata": {
        "id": "f8pD5Fop-Ifk"
      },
      "execution_count": 213,
      "outputs": []
    },
    {
      "cell_type": "code",
      "source": [
        "tfidf_data.shape"
      ],
      "metadata": {
        "colab": {
          "base_uri": "https://localhost:8080/"
        },
        "id": "H4V5WdNs9Jk-",
        "outputId": "43271e08-3ae9-4ce2-f5d3-40e32f6bcacd"
      },
      "execution_count": 214,
      "outputs": [
        {
          "output_type": "execute_result",
          "data": {
            "text/plain": [
              "(4380, 232414)"
            ]
          },
          "metadata": {},
          "execution_count": 214
        }
      ]
    },
    {
      "cell_type": "code",
      "source": [
        "# Splitting the human dataset into the training set and test set\n",
        "from sklearn.model_selection import train_test_split\n",
        "X_train, X_test, y_train, y_test = train_test_split(tfidf_data, \n",
        "                                                df['class'], \n",
        "                                                    test_size = 0.20, \n",
        "                                                    random_state=42)"
      ],
      "metadata": {
        "id": "Ul8EGo5TrvtX"
      },
      "execution_count": 215,
      "outputs": []
    },
    {
      "cell_type": "code",
      "source": [
        "X_train.shape"
      ],
      "metadata": {
        "colab": {
          "base_uri": "https://localhost:8080/"
        },
        "id": "AEbY3Af_rxjn",
        "outputId": "4bc46d7b-9319-4d62-cce9-adace77b833e"
      },
      "execution_count": 216,
      "outputs": [
        {
          "output_type": "execute_result",
          "data": {
            "text/plain": [
              "(3504, 232414)"
            ]
          },
          "metadata": {},
          "execution_count": 216
        }
      ]
    },
    {
      "cell_type": "code",
      "source": [
        "X_test.shape"
      ],
      "metadata": {
        "colab": {
          "base_uri": "https://localhost:8080/"
        },
        "id": "qX76nBzAArWy",
        "outputId": "50198ee1-243d-4b74-b9d8-d8c045cedaf3"
      },
      "execution_count": 217,
      "outputs": [
        {
          "output_type": "execute_result",
          "data": {
            "text/plain": [
              "(876, 232414)"
            ]
          },
          "metadata": {},
          "execution_count": 217
        }
      ]
    },
    {
      "cell_type": "markdown",
      "source": [
        "**A multinomial naive Bayes classifier will be created. .**"
      ],
      "metadata": {
        "id": "pEd2Iwihr0S3"
      }
    },
    {
      "cell_type": "code",
      "source": [
        "### Multinomial Naive Bayes Classifier ###\n",
        "# The alpha parameter was determined by grid search previously\n",
        "from sklearn.naive_bayes import MultinomialNB\n"
      ],
      "metadata": {
        "id": "_HPzPEKCr2On"
      },
      "execution_count": 218,
      "outputs": []
    },
    {
      "cell_type": "code",
      "source": [
        "classifier = MultinomialNB(alpha=0.1)\n",
        "classifier.fit(X_train, y_train)"
      ],
      "metadata": {
        "colab": {
          "base_uri": "https://localhost:8080/"
        },
        "id": "LQphQM1Sr_WR",
        "outputId": "8dfaa4ec-3a82-4514-962e-1bf0e1628bbb"
      },
      "execution_count": 219,
      "outputs": [
        {
          "output_type": "execute_result",
          "data": {
            "text/plain": [
              "MultinomialNB(alpha=0.1)"
            ]
          },
          "metadata": {},
          "execution_count": 219
        }
      ]
    },
    {
      "cell_type": "code",
      "source": [
        "y_pred = classifier.predict(X_test)"
      ],
      "metadata": {
        "id": "6g-TlOiYsDF3"
      },
      "execution_count": 220,
      "outputs": []
    },
    {
      "cell_type": "markdown",
      "source": [
        " **Model performce metrics like the confusion matrix, accuracy, precision, recall and f1 score**"
      ],
      "metadata": {
        "id": "zIOvPDO5sQkt"
      }
    },
    {
      "cell_type": "code",
      "source": [
        "from sklearn.metrics import accuracy_score, f1_score, precision_score, recall_score\n",
        "print(\"Confusion matrix\\n\")\n",
        "print(pd.crosstab(pd.Series(y_test, name='Actual'), pd.Series(preds, name='Predicted')))\n"
      ],
      "metadata": {
        "colab": {
          "base_uri": "https://localhost:8080/"
        },
        "id": "hrrXiUCOsTEb",
        "outputId": "882e1509-7bdb-4834-e695-37f48f868c3e"
      },
      "execution_count": 221,
      "outputs": [
        {
          "output_type": "stream",
          "name": "stdout",
          "text": [
            "Confusion matrix\n",
            "\n",
            "Predicted  0  1  2  3  4  5   6\n",
            "Actual                         \n",
            "0          2  0  0  1  1  1  12\n",
            "1          3  2  0  7  7  0  15\n",
            "2          0  0  1  3  3  0  12\n",
            "3          1  0  2  5  2  0  11\n",
            "4          5  5  2  4  2  0  16\n",
            "5          2  1  1  2  1  0   3\n",
            "6          5  5  3  5  5  0  34\n"
          ]
        }
      ]
    },
    {
      "cell_type": "code",
      "source": [
        "from sklearn.metrics import accuracy_score, f1_score, precision_score, recall_score\n",
        "print(\"Confusion matrix\\n\")\n",
        "print(pd.crosstab(pd.Series(y_test, name='Actual'), pd.Series(preds, name='Predicted')))\n",
        "def get_metrics(y_test, y_predicted):\n",
        "    accuracy = accuracy_score(y_test, y_predicted)\n",
        "    precision = precision_score(y_test, y_predicted, average='weighted')\n",
        "    recall = recall_score(y_test, y_predicted, average='weighted')\n",
        "    f1 = f1_score(y_test, y_predicted, average='weighted')\n",
        "    return accuracy, precision, recall, f1\n",
        "accuracy, precision, recall, f1 = get_metrics(y_test, y_pred)\n",
        "print(\"accuracy = %.3f \\nprecision = %.3f \\nrecall = %.3f \\nf1 = %.3f\" % (accuracy, precision, recall, f1))"
      ],
      "metadata": {
        "colab": {
          "base_uri": "https://localhost:8080/"
        },
        "id": "09nUYKqgCu0X",
        "outputId": "15fd1016-9a68-43f2-9e1f-93fbe8df944b"
      },
      "execution_count": 222,
      "outputs": [
        {
          "output_type": "stream",
          "name": "stdout",
          "text": [
            "Confusion matrix\n",
            "\n",
            "Predicted  0  1  2  3  4  5   6\n",
            "Actual                         \n",
            "0          2  0  0  1  1  1  12\n",
            "1          3  2  0  7  7  0  15\n",
            "2          0  0  1  3  3  0  12\n",
            "3          1  0  2  5  2  0  11\n",
            "4          5  5  2  4  2  0  16\n",
            "5          2  1  1  2  1  0   3\n",
            "6          5  5  3  5  5  0  34\n",
            "accuracy = 0.977 \n",
            "precision = 0.977 \n",
            "recall = 0.977 \n",
            "f1 = 0.977\n"
          ]
        }
      ]
    },
    {
      "cell_type": "code",
      "source": [],
      "metadata": {
        "id": "5vEOnFeEHREP"
      },
      "execution_count": null,
      "outputs": []
    }
  ]
}